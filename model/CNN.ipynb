{
 "cells": [
  {
   "cell_type": "code",
   "execution_count": 40,
   "metadata": {},
   "outputs": [],
   "source": [
    "import numpy as np\n",
    "import pandas as pd\n",
    "import tensorflow as tf\n",
    "from PIL import Image\n",
    "from tensorflow.keras import layers, models\n",
    "from tensorflow.keras.preprocessing.image import load_img, img_to_array"
   ]
  },
  {
   "cell_type": "markdown",
   "metadata": {},
   "source": [
    "# Data Preparation"
   ]
  },
  {
   "cell_type": "code",
   "execution_count": 41,
   "metadata": {},
   "outputs": [],
   "source": [
    "def resize_and_pad_image(file_path, max_dimension, target_size=(100, 100)):\n",
    "    # Open the image\n",
    "    image = Image.open(file_path)\n",
    "    \n",
    "    # Get original width and height\n",
    "    original_width, original_height = image.size\n",
    "    \n",
    "    # Calculate aspect ratio\n",
    "    aspect_ratio = original_width / original_height\n",
    "    \n",
    "    # Determine new dimensions\n",
    "    if original_width >= original_height:\n",
    "        new_width = max_dimension\n",
    "        new_height = int(max_dimension / aspect_ratio)\n",
    "    else:\n",
    "        new_height = max_dimension\n",
    "        new_width = int(max_dimension * aspect_ratio)\n",
    "    \n",
    "    # Resize the image while maintaining aspect ratio\n",
    "    resized_image = image.resize((new_width, new_height), Image.LANCZOS)\n",
    "    \n",
    "    # Create a new blank white image with the target size\n",
    "    new_image = Image.new(\"RGB\", target_size, color=\"white\")\n",
    "\n",
    "    # Paste the resized image onto the center of the blank white image\n",
    "    position = ((target_size[0] - resized_image.size[0]) // 2, (target_size[1] - resized_image.size[1]) // 2)\n",
    "    new_image.paste(resized_image, position)\n",
    "    \n",
    "    return new_image"
   ]
  },
  {
   "cell_type": "code",
   "execution_count": 42,
   "metadata": {},
   "outputs": [],
   "source": [
    "# Load and preprocess images from file paths\n",
    "def load_image(file_path, max_dimension=100):\n",
    "    resized_image = resize_and_pad_image(file_path, max_dimension)\n",
    "    image_array = img_to_array(resized_image) / 255.0\n",
    "    return image_array"
   ]
  },
  {
   "cell_type": "code",
   "execution_count": 43,
   "metadata": {},
   "outputs": [],
   "source": [
    "def prepare_data(file_path):\n",
    "    # Read the csv file\n",
    "    df = pd.read_csv(file_path)\n",
    "\n",
    "    # Trim dataset for faster testing for now\n",
    "    #df = df.sample(n=50, random_state=42)\n",
    "\n",
    "    # Append data/ in front of every image file path\n",
    "    df['image:FILE'] = 'data/' + df['image:FILE']\n",
    "    \n",
    "    # Add new column with loaded image\n",
    "    df['image'] = df['image:FILE'].apply(lambda x: load_image(x))\n",
    "\n",
    "    # Shuffle the dataframe\n",
    "    df = df.sample(frac=1.0, random_state=42)\n",
    "\n",
    "    X = np.stack(df['image'].to_numpy())\n",
    "    y = df['category'].to_numpy()\n",
    "\n",
    "    return X, y\n"
   ]
  },
  {
   "cell_type": "code",
   "execution_count": 44,
   "metadata": {},
   "outputs": [],
   "source": [
    "X_train, y_train = prepare_data('data/test.csv')\n",
    "X_val, y_val = prepare_data('data/val.csv')\n",
    "X_test, y_test = prepare_data('data/test.csv')"
   ]
  },
  {
   "cell_type": "markdown",
   "metadata": {},
   "source": [
    "# Train Model"
   ]
  },
  {
   "cell_type": "code",
   "execution_count": 45,
   "metadata": {},
   "outputs": [],
   "source": [
    "# To ensure we have reproducable results for each model execution\n",
    "import os\n",
    "os.environ['TF_NUM_INTEROP_THREADS'] = '1'"
   ]
  },
  {
   "cell_type": "code",
   "execution_count": 46,
   "metadata": {},
   "outputs": [],
   "source": [
    "def CNN_train():\n",
    "    # Set random seed for TensorFlow operations\n",
    "    tf.random.set_seed(42)\n",
    "    \n",
    "    # Define the CNN architecture\n",
    "    model = models.Sequential([\n",
    "        layers.Input(shape=(100, 100, 3)),\n",
    "        layers.Conv2D(32, (3, 3), activation='relu'),\n",
    "        layers.MaxPooling2D((2, 2)),\n",
    "        layers.Conv2D(64, (3, 3), activation='relu'),\n",
    "        layers.MaxPooling2D((2, 2)),\n",
    "        layers.Conv2D(64, (3, 3), activation='relu'),\n",
    "        layers.Flatten(),\n",
    "        layers.Dense(64, activation='relu'),\n",
    "        layers.Dense(30)  # 30 unique labels in dataset\n",
    "    ])\n",
    "\n",
    "    # Compile the model\n",
    "    model.compile(optimizer='adam',\n",
    "        loss=tf.keras.losses.SparseCategoricalCrossentropy(from_logits=True),\n",
    "        metrics=['accuracy'])\n",
    "    \n",
    "    # Train the model\n",
    "    model.fit(X_train, y_train, epochs=15, validation_data=(X_val, y_val))\n",
    "\n",
    "    # Evaluate the model\n",
    "    test_loss, test_acc = model.evaluate(X_test, y_test, verbose=2)\n",
    "    print(f'Test accuracy: {test_acc}')\n",
    "    print(f'Test loss: {test_loss}')\n",
    "\n",
    "    # Save the model\n",
    "    model.save('CNN_model.keras')"
   ]
  },
  {
   "cell_type": "code",
   "execution_count": 47,
   "metadata": {},
   "outputs": [
    {
     "name": "stdout",
     "output_type": "stream",
     "text": [
      "Epoch 1/15\n",
      "\u001b[1m188/188\u001b[0m \u001b[32m━━━━━━━━━━━━━━━━━━━━\u001b[0m\u001b[37m\u001b[0m \u001b[1m44s\u001b[0m 222ms/step - accuracy: 0.0858 - loss: 3.2567 - val_accuracy: 0.2177 - val_loss: 2.7509\n",
      "Epoch 2/15\n",
      "\u001b[1m188/188\u001b[0m \u001b[32m━━━━━━━━━━━━━━━━━━━━\u001b[0m\u001b[37m\u001b[0m \u001b[1m39s\u001b[0m 207ms/step - accuracy: 0.3127 - loss: 2.3279 - val_accuracy: 0.3123 - val_loss: 2.3636\n",
      "Epoch 3/15\n",
      "\u001b[1m188/188\u001b[0m \u001b[32m━━━━━━━━━━━━━━━━━━━━\u001b[0m\u001b[37m\u001b[0m \u001b[1m39s\u001b[0m 207ms/step - accuracy: 0.4471 - loss: 1.8910 - val_accuracy: 0.3827 - val_loss: 2.2214\n",
      "Epoch 4/15\n",
      "\u001b[1m188/188\u001b[0m \u001b[32m━━━━━━━━━━━━━━━━━━━━\u001b[0m\u001b[37m\u001b[0m \u001b[1m37s\u001b[0m 195ms/step - accuracy: 0.5635 - loss: 1.4902 - val_accuracy: 0.4260 - val_loss: 2.1461\n",
      "Epoch 5/15\n",
      "\u001b[1m188/188\u001b[0m \u001b[32m━━━━━━━━━━━━━━━━━━━━\u001b[0m\u001b[37m\u001b[0m \u001b[1m40s\u001b[0m 212ms/step - accuracy: 0.6684 - loss: 1.1484 - val_accuracy: 0.4613 - val_loss: 2.3251\n",
      "Epoch 6/15\n",
      "\u001b[1m188/188\u001b[0m \u001b[32m━━━━━━━━━━━━━━━━━━━━\u001b[0m\u001b[37m\u001b[0m \u001b[1m36s\u001b[0m 193ms/step - accuracy: 0.7584 - loss: 0.8003 - val_accuracy: 0.4650 - val_loss: 2.3867\n",
      "Epoch 7/15\n",
      "\u001b[1m188/188\u001b[0m \u001b[32m━━━━━━━━━━━━━━━━━━━━\u001b[0m\u001b[37m\u001b[0m \u001b[1m36s\u001b[0m 193ms/step - accuracy: 0.8094 - loss: 0.5990 - val_accuracy: 0.4770 - val_loss: 2.7153\n",
      "Epoch 8/15\n",
      "\u001b[1m188/188\u001b[0m \u001b[32m━━━━━━━━━━━━━━━━━━━━\u001b[0m\u001b[37m\u001b[0m \u001b[1m37s\u001b[0m 195ms/step - accuracy: 0.8652 - loss: 0.4189 - val_accuracy: 0.4970 - val_loss: 2.8339\n",
      "Epoch 9/15\n",
      "\u001b[1m188/188\u001b[0m \u001b[32m━━━━━━━━━━━━━━━━━━━━\u001b[0m\u001b[37m\u001b[0m \u001b[1m34s\u001b[0m 182ms/step - accuracy: 0.8983 - loss: 0.2897 - val_accuracy: 0.5070 - val_loss: 3.0987\n",
      "Epoch 10/15\n",
      "\u001b[1m188/188\u001b[0m \u001b[32m━━━━━━━━━━━━━━━━━━━━\u001b[0m\u001b[37m\u001b[0m \u001b[1m34s\u001b[0m 183ms/step - accuracy: 0.9152 - loss: 0.2231 - val_accuracy: 0.4893 - val_loss: 3.7125\n",
      "Epoch 11/15\n",
      "\u001b[1m188/188\u001b[0m \u001b[32m━━━━━━━━━━━━━━━━━━━━\u001b[0m\u001b[37m\u001b[0m \u001b[1m34s\u001b[0m 178ms/step - accuracy: 0.9374 - loss: 0.1657 - val_accuracy: 0.4930 - val_loss: 3.8452\n",
      "Epoch 12/15\n",
      "\u001b[1m188/188\u001b[0m \u001b[32m━━━━━━━━━━━━━━━━━━━━\u001b[0m\u001b[37m\u001b[0m \u001b[1m33s\u001b[0m 177ms/step - accuracy: 0.9367 - loss: 0.1649 - val_accuracy: 0.4763 - val_loss: 4.0506\n",
      "Epoch 13/15\n",
      "\u001b[1m188/188\u001b[0m \u001b[32m━━━━━━━━━━━━━━━━━━━━\u001b[0m\u001b[37m\u001b[0m \u001b[1m34s\u001b[0m 181ms/step - accuracy: 0.9388 - loss: 0.1405 - val_accuracy: 0.5267 - val_loss: 3.9955\n",
      "Epoch 14/15\n",
      "\u001b[1m188/188\u001b[0m \u001b[32m━━━━━━━━━━━━━━━━━━━━\u001b[0m\u001b[37m\u001b[0m \u001b[1m35s\u001b[0m 189ms/step - accuracy: 0.9477 - loss: 0.1163 - val_accuracy: 0.5397 - val_loss: 4.1462\n",
      "Epoch 15/15\n",
      "\u001b[1m188/188\u001b[0m \u001b[32m━━━━━━━━━━━━━━━━━━━━\u001b[0m\u001b[37m\u001b[0m \u001b[1m35s\u001b[0m 186ms/step - accuracy: 0.9484 - loss: 0.1022 - val_accuracy: 0.5240 - val_loss: 4.3735\n",
      "188/188 - 7s - 39ms/step - accuracy: 0.9507 - loss: 0.1086\n",
      "Test accuracy: 0.9506666660308838\n",
      "Test loss: 0.10862499475479126\n"
     ]
    }
   ],
   "source": [
    "CNN_train()"
   ]
  },
  {
   "cell_type": "code",
   "execution_count": null,
   "metadata": {},
   "outputs": [],
   "source": []
  }
 ],
 "metadata": {
  "kernelspec": {
   "display_name": "base",
   "language": "python",
   "name": "python3"
  },
  "language_info": {
   "codemirror_mode": {
    "name": "ipython",
    "version": 3
   },
   "file_extension": ".py",
   "mimetype": "text/x-python",
   "name": "python",
   "nbconvert_exporter": "python",
   "pygments_lexer": "ipython3",
   "version": "3.11.5"
  }
 },
 "nbformat": 4,
 "nbformat_minor": 2
}
