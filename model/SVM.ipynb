{
 "cells": [
  {
   "cell_type": "code",
   "execution_count": 1,
   "metadata": {},
   "outputs": [],
   "source": [
    "import numpy as np\n",
    "import pandas as pd\n",
    "import cv2\n",
    "from sklearn.svm import SVC\n",
    "from sklearn.metrics import confusion_matrix, accuracy_score\n",
    "from sklearn.model_selection import cross_val_score, RandomizedSearchCV"
   ]
  },
  {
   "cell_type": "markdown",
   "metadata": {},
   "source": [
    "# Data Preparation"
   ]
  },
  {
   "cell_type": "code",
   "execution_count": 2,
   "metadata": {},
   "outputs": [],
   "source": [
    "# Create dictionary for category classes\n",
    "output_dict = {0 : 'aloevera',\n",
    "                1 : 'banana',\n",
    "                2 : 'bilimbi',\n",
    "                3 : 'cantaloupe',\n",
    "                4 : 'cassava',\n",
    "                5 : 'coconut',\n",
    "                6 : 'corn',\n",
    "                7 : 'cucumber',\n",
    "                8 : 'curcuma',\n",
    "                9 : 'eggplant',\n",
    "                10 : 'galangal',\n",
    "                11 : 'ginger',\n",
    "                12 : 'guava',\n",
    "                13 : 'kale',\n",
    "                14 : 'longbeans',\n",
    "                15 : 'mango',\n",
    "                16 : 'melon',\n",
    "                17 : 'orange',\n",
    "                18 : 'paddy',\n",
    "                19 : 'papaya',\n",
    "                20 : 'peperchili',\n",
    "                21 : 'pineapple',\n",
    "                22 : 'pomelo',\n",
    "                23 : 'shallot',\n",
    "                24 : 'soybeans',\n",
    "                25 : 'spinach',\n",
    "                26 : 'sweetpotatoes',\n",
    "                27 : 'tobacco',\n",
    "                28 : 'waterapple',\n",
    "                29 : 'watermelon'}"
   ]
  },
  {
   "cell_type": "code",
   "execution_count": 3,
   "metadata": {},
   "outputs": [],
   "source": [
    "def map_values(category_num):\n",
    "    return output_dict.get(category_num)"
   ]
  },
  {
   "cell_type": "code",
   "execution_count": 4,
   "metadata": {},
   "outputs": [],
   "source": [
    "# Load and preprocess images from file paths\n",
    "def load_images(df):\n",
    "    images = []\n",
    "    for file_path in df['image:FILE']:\n",
    "        # Read the image from file\n",
    "        image = cv2.imread(file_path)\n",
    "\n",
    "        # Resize the image\n",
    "        image = cv2.resize(image, (32, 32))  # Adjust size as needed\n",
    "\n",
    "        # Flatten the image to a 1D array\n",
    "        flattened_image = image.flatten()\n",
    "\n",
    "        # Append the flattened image to the list\n",
    "        images.append(flattened_image)\n",
    "    return np.array(images)"
   ]
  },
  {
   "cell_type": "code",
   "execution_count": 5,
   "metadata": {},
   "outputs": [],
   "source": [
    "def prepare_data(file_path):\n",
    "    # Read the csv file\n",
    "    df = pd.read_csv(file_path)\n",
    "\n",
    "    # Trim dataset for faster testing for now\n",
    "    #df = df.sample(n=1000, random_state=42)\n",
    "\n",
    "    # Add new column for name of class category\n",
    "    df['label'] = df['category'].apply(map_values)\n",
    "\n",
    "    # Append data/ in front of every image file path\n",
    "    df['image:FILE'] = 'data/' + df['image:FILE']\n",
    "    \n",
    "    # Load images\n",
    "    X = load_images(df)\n",
    "\n",
    "    # Convert images to numpy arrays\n",
    "    X = np.array(X)\n",
    "    y = np.array(df['label'])\n",
    "\n",
    "    return X, y"
   ]
  },
  {
   "cell_type": "code",
   "execution_count": 6,
   "metadata": {},
   "outputs": [],
   "source": [
    "X_train, y_train = prepare_data('data/test.csv')\n",
    "X_val, y_val = prepare_data('data/val.csv')\n",
    "X_test, y_test = prepare_data('data/test.csv')"
   ]
  },
  {
   "cell_type": "code",
   "execution_count": 7,
   "metadata": {},
   "outputs": [],
   "source": [
    "# Combine the train and val sets and use cross validation instead so we can have a larger training set\n",
    "X_train = np.concatenate((X_train, X_val), axis=0)\n",
    "y_train = np.concatenate((y_train, y_val), axis=0)"
   ]
  },
  {
   "cell_type": "markdown",
   "metadata": {},
   "source": [
    "# Train Model"
   ]
  },
  {
   "cell_type": "code",
   "execution_count": 8,
   "metadata": {},
   "outputs": [],
   "source": [
    "def finetune_parameters():\n",
    "    model = SVC()\n",
    "\n",
    "    param_grid = {'C': [1, 10, 100],\n",
    "                  'kernel': ['linear', 'poly', 'rbf']}\n",
    "\n",
    "    randomized_search = RandomizedSearchCV(model, param_distributions=param_grid, n_iter=6, cv=10, random_state=42)\n",
    "    randomized_search.fit(X_train, y_train)\n",
    "\n",
    "    best_params = randomized_search.best_params_\n",
    "    print(\"Best Parameters:\", best_params)\n",
    "\n",
    "    return best_params"
   ]
  },
  {
   "cell_type": "code",
   "execution_count": 9,
   "metadata": {},
   "outputs": [],
   "source": [
    "def SVM_train():\n",
    "    #best_params = finetune_parameters()\n",
    "\n",
    "    best_model = SVC(kernel='rbf', C=10)\n",
    "    best_model.fit(X_train, y_train)\n",
    "\n",
    "    val_accuracy = cross_val_score(best_model, X_train, y_train, cv=10, scoring=\"accuracy\")\n",
    "    val_accuracy = np.mean(val_accuracy)\n",
    "    print(\"Validation Accuracy:\", val_accuracy)\n",
    "\n",
    "    test_predictions = best_model.predict(X_test)\n",
    "    test_accuracy = accuracy_score(y_test, test_predictions)\n",
    "    print(\"Testing Accuracy:\", test_accuracy)"
   ]
  },
  {
   "cell_type": "code",
   "execution_count": 11,
   "metadata": {},
   "outputs": [
    {
     "name": "stdout",
     "output_type": "stream",
     "text": [
      "Validation Accuracy: 0.6531111111111112\n",
      "Testing Accuracy: 0.9673333333333334\n"
     ]
    }
   ],
   "source": [
    "SVM_train()"
   ]
  },
  {
   "cell_type": "code",
   "execution_count": null,
   "metadata": {},
   "outputs": [],
   "source": []
  }
 ],
 "metadata": {
  "kernelspec": {
   "display_name": "base",
   "language": "python",
   "name": "python3"
  },
  "language_info": {
   "codemirror_mode": {
    "name": "ipython",
    "version": 3
   },
   "file_extension": ".py",
   "mimetype": "text/x-python",
   "name": "python",
   "nbconvert_exporter": "python",
   "pygments_lexer": "ipython3",
   "version": "3.11.5"
  }
 },
 "nbformat": 4,
 "nbformat_minor": 2
}
